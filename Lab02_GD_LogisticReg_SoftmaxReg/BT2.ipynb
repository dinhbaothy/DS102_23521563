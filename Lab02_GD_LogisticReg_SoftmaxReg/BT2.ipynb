{
 "cells": [
  {
   "cell_type": "markdown",
   "metadata": {},
   "source": [
    "## Lab02 - Assignment 2: Softmax Regression using Gradient Descent"
   ]
  },
  {
   "cell_type": "code",
   "execution_count": 212,
   "metadata": {},
   "outputs": [],
   "source": [
    "import pandas as pd\n",
    "import numpy as np"
   ]
  },
  {
   "cell_type": "code",
   "execution_count": 213,
   "metadata": {},
   "outputs": [],
   "source": [
    "data = pd.read_csv('predict+students+dropout+and+academic+success.csv', sep=';')"
   ]
  },
  {
   "cell_type": "code",
   "execution_count": 214,
   "metadata": {},
   "outputs": [],
   "source": [
    "#Map lại cột Course\n",
    "course_unique, course_map = np.unique(data['Course'], return_inverse=True)\n",
    "data['Course'] = course_map + 1"
   ]
  },
  {
   "cell_type": "code",
   "execution_count": 215,
   "metadata": {},
   "outputs": [],
   "source": [
    "#Chuẩn hóa\n",
    "for col in data.columns:\n",
    "    if data[col].dtype == np.float64:\n",
    "        data[col] = (data[col] - data[col].mean()) / data[col].std()"
   ]
  },
  {
   "cell_type": "code",
   "execution_count": 216,
   "metadata": {},
   "outputs": [
    {
     "name": "stdout",
     "output_type": "stream",
     "text": [
      "dataset: (4424, 36) (4424, 1)\n"
     ]
    }
   ],
   "source": [
    "#Chia tập dữ liệu\n",
    "X = data.drop(columns=['Target']).to_numpy()\n",
    "y = data['Target'].to_numpy().reshape(-1,1)\n",
    "print('dataset:', X.shape, y.shape)"
   ]
  },
  {
   "cell_type": "code",
   "execution_count": 217,
   "metadata": {},
   "outputs": [
    {
     "data": {
      "text/plain": [
       "array([['Dropout'],\n",
       "       ['Graduate'],\n",
       "       ['Dropout'],\n",
       "       ...,\n",
       "       ['Dropout'],\n",
       "       ['Graduate'],\n",
       "       ['Graduate']], shape=(4424, 1), dtype=object)"
      ]
     },
     "execution_count": 217,
     "metadata": {},
     "output_type": "execute_result"
    }
   ],
   "source": [
    "y"
   ]
  },
  {
   "cell_type": "code",
   "execution_count": null,
   "metadata": {},
   "outputs": [
    {
     "data": {
      "text/plain": [
       "array([[1., 0., 0.],\n",
       "       [0., 0., 1.],\n",
       "       [1., 0., 0.],\n",
       "       ...,\n",
       "       [1., 0., 0.],\n",
       "       [0., 0., 1.],\n",
       "       [0., 0., 1.]], shape=(4424, 3))"
      ]
     },
     "execution_count": 218,
     "metadata": {},
     "output_type": "execute_result"
    }
   ],
   "source": [
    "def one_hot_encode(y):\n",
    "    y = np.array(y, dtype=str).flatten() #Chuyển đổi về dạng 1 chiều\n",
    "\n",
    "    y_encoded = np.zeros((len(y), len(np.unique(y))))\n",
    "\n",
    "    index = {label: i for i, label in enumerate(np.unique(y))} \n",
    "\n",
    "    for i, label in enumerate(y):\n",
    "        y_encoded[i, index[label]] = 1\n",
    "    return y_encoded\n",
    "\n",
    "y = one_hot_encode(y)\n",
    "y"
   ]
  },
  {
   "cell_type": "code",
   "execution_count": 219,
   "metadata": {},
   "outputs": [
    {
     "name": "stdout",
     "output_type": "stream",
     "text": [
      "train: (3539, 36) (3539, 3)\n",
      "test: (885, 36) (885, 3)\n"
     ]
    }
   ],
   "source": [
    "split_index = int(0.8 * X.shape[0])\n",
    "X_train, X_test = np.split(X, [split_index])\n",
    "y_train, y_test = np.split(y, [split_index])\n",
    "\n",
    "print('train:', X_train.shape, y_train.shape)\n",
    "print('test:', X_test.shape, y_test.shape)"
   ]
  },
  {
   "cell_type": "markdown",
   "metadata": {},
   "source": [
    "## Softmax Regression"
   ]
  },
  {
   "cell_type": "code",
   "execution_count": 221,
   "metadata": {},
   "outputs": [],
   "source": [
    "class SoftmaxRegression:\n",
    "    def __init__(self, epoch: int, lr: float) -> None:\n",
    "        self.epoch = epoch\n",
    "        self.lr = lr\n",
    "        self.losses = []\n",
    "        self.metrics = []\n",
    "\n",
    "    def softmax(self, s: np.ndarray) -> np.ndarray:\n",
    "        s -= np.max(s, axis=1, keepdims=True) #tránh tràn số\n",
    "        return np.exp(s) / np.sum(np.exp(s), axis=1, keepdims=True)\n",
    "\n",
    "    def cross_entropy(self, y: np.ndarray, y_hat: np.ndarray) -> float:\n",
    "        eps = 1e-10\n",
    "        return -np.mean(np.sum(y * np.log(y_hat + eps), axis=1))\n",
    "\n",
    "    def fit(self, X: np.ndarray, y: np.ndarray) -> None:\n",
    "        n = X.shape[0]\n",
    "        self.theta = np.zeros((X.shape[1], y.shape[1]))\n",
    "\n",
    "        for e in range(self.epoch):\n",
    "            y_hat = self.predict(X)\n",
    "            diff = y_hat - y\n",
    "            gradient = 1/n * (X.T @ diff)\n",
    "            self.theta -= self.lr*gradient\n",
    "\n",
    "            loss = self.cross_entropy(y, y_hat)\n",
    "            acc = self.accuracy(y, y_hat)\n",
    "\n",
    "            self.losses.append(loss)\n",
    "            self.metrics.append(acc)\n",
    "    \n",
    "    def predict(self, X: np.ndarray) -> np.ndarray:\n",
    "        return self.softmax(X @ self.theta)\n",
    "\n",
    "    def accuracy(self, y: np.ndarray, y_hat: np.ndarray) -> float:\n",
    "        return (1 - np.abs(y - y_hat)).mean()"
   ]
  },
  {
   "cell_type": "code",
   "execution_count": 230,
   "metadata": {},
   "outputs": [
    {
     "name": "stdout",
     "output_type": "stream",
     "text": [
      "0.7639261637733072\n"
     ]
    }
   ],
   "source": [
    "softmaxReg = SoftmaxRegression(10000, 0.001)\n",
    "softmaxReg.fit(X_train, y_train)\n",
    "y_pred = softmaxReg.predict(X_test)\n",
    "accuracy = softmaxReg.accuracy(y_test, y_pred)\n",
    "print(accuracy)"
   ]
  },
  {
   "cell_type": "code",
   "execution_count": 231,
   "metadata": {},
   "outputs": [
    {
     "data": {
      "image/png": "[encoded data removed]",
      "text/plain": [
       "<Figure size 640x480 with 1 Axes>"
      ]
     },
     "metadata": {},
     "output_type": "display_data"
    }
   ],
   "source": [
    "from matplotlib.pylab import plt\n",
    "\n",
    "train_loss = softmaxReg.losses\n",
    "\n",
    "plt.plot(range(1, softmaxReg.epoch + 1), softmaxReg.losses)\n",
    "plt.title('Đồ thị loss của tập train')\n",
    "plt.xlabel('epochs')\n",
    "plt.ylabel('loss')\n",
    "plt.show()"
   ]
  }
 ],
 "metadata": {
  "kernelspec": {
   "display_name": "Python 3",
   "language": "python",
   "name": "python3"
  },
  "language_info": {
   "codemirror_mode": {
    "name": "ipython",
    "version": 3
   },
   "file_extension": ".py",
   "mimetype": "text/x-python",
   "name": "python",
   "nbconvert_exporter": "python",
   "pygments_lexer": "ipython3",
   "version": "3.13.2"
  }
 },
 "nbformat": 4,
 "nbformat_minor": 2
}
