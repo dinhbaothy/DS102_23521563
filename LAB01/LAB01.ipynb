{
 "cells": [
  {
   "cell_type": "markdown",
   "metadata": {},
   "source": [
    "# Lab01\n",
    "23521563 - Đinh Bảo Thy"
   ]
  },
  {
   "cell_type": "code",
   "execution_count": 95,
   "metadata": {},
   "outputs": [],
   "source": [
    "import pandas as pd\n",
    "import numpy as np\n",
    "import matplotlib.pyplot as plt\n",
    "import seaborn as sns"
   ]
  },
  {
   "cell_type": "markdown",
   "metadata": {},
   "source": [
    "## Bài 1: phương pháp hồi quy tuyến tính\n",
    "Sử dụng Numpy xây dựng phương pháp hồi quy tuyến tính và tiến hành huấn luyện trên bộ dữ liệu Forest Fires"
   ]
  },
  {
   "cell_type": "markdown",
   "metadata": {},
   "source": [
    "Tiền xử lý"
   ]
  },
  {
   "cell_type": "code",
   "execution_count": 96,
   "metadata": {},
   "outputs": [
    {
     "data": {
      "text/html": [
       "<div>\n",
       "<style scoped>\n",
       "    .dataframe tbody tr th:only-of-type {\n",
       "        vertical-align: middle;\n",
       "    }\n",
       "\n",
       "    .dataframe tbody tr th {\n",
       "        vertical-align: top;\n",
       "    }\n",
       "\n",
       "    .dataframe thead th {\n",
       "        text-align: right;\n",
       "    }\n",
       "</style>\n",
       "<table border=\"1\" class=\"dataframe\">\n",
       "  <thead>\n",
       "    <tr style=\"text-align: right;\">\n",
       "      <th></th>\n",
       "      <th>X</th>\n",
       "      <th>Y</th>\n",
       "      <th>month</th>\n",
       "      <th>day</th>\n",
       "      <th>FFMC</th>\n",
       "      <th>DMC</th>\n",
       "      <th>DC</th>\n",
       "      <th>ISI</th>\n",
       "      <th>temp</th>\n",
       "      <th>RH</th>\n",
       "      <th>wind</th>\n",
       "      <th>rain</th>\n",
       "      <th>area</th>\n",
       "    </tr>\n",
       "  </thead>\n",
       "  <tbody>\n",
       "    <tr>\n",
       "      <th>0</th>\n",
       "      <td>7</td>\n",
       "      <td>5</td>\n",
       "      <td>mar</td>\n",
       "      <td>fri</td>\n",
       "      <td>86.2</td>\n",
       "      <td>26.2</td>\n",
       "      <td>94.3</td>\n",
       "      <td>5.1</td>\n",
       "      <td>8.2</td>\n",
       "      <td>51</td>\n",
       "      <td>6.7</td>\n",
       "      <td>0.0</td>\n",
       "      <td>0.0</td>\n",
       "    </tr>\n",
       "    <tr>\n",
       "      <th>1</th>\n",
       "      <td>7</td>\n",
       "      <td>4</td>\n",
       "      <td>oct</td>\n",
       "      <td>tue</td>\n",
       "      <td>90.6</td>\n",
       "      <td>35.4</td>\n",
       "      <td>669.1</td>\n",
       "      <td>6.7</td>\n",
       "      <td>18.0</td>\n",
       "      <td>33</td>\n",
       "      <td>0.9</td>\n",
       "      <td>0.0</td>\n",
       "      <td>0.0</td>\n",
       "    </tr>\n",
       "    <tr>\n",
       "      <th>2</th>\n",
       "      <td>7</td>\n",
       "      <td>4</td>\n",
       "      <td>oct</td>\n",
       "      <td>sat</td>\n",
       "      <td>90.6</td>\n",
       "      <td>43.7</td>\n",
       "      <td>686.9</td>\n",
       "      <td>6.7</td>\n",
       "      <td>14.6</td>\n",
       "      <td>33</td>\n",
       "      <td>1.3</td>\n",
       "      <td>0.0</td>\n",
       "      <td>0.0</td>\n",
       "    </tr>\n",
       "    <tr>\n",
       "      <th>3</th>\n",
       "      <td>8</td>\n",
       "      <td>6</td>\n",
       "      <td>mar</td>\n",
       "      <td>fri</td>\n",
       "      <td>91.7</td>\n",
       "      <td>33.3</td>\n",
       "      <td>77.5</td>\n",
       "      <td>9.0</td>\n",
       "      <td>8.3</td>\n",
       "      <td>97</td>\n",
       "      <td>4.0</td>\n",
       "      <td>0.2</td>\n",
       "      <td>0.0</td>\n",
       "    </tr>\n",
       "    <tr>\n",
       "      <th>4</th>\n",
       "      <td>8</td>\n",
       "      <td>6</td>\n",
       "      <td>mar</td>\n",
       "      <td>sun</td>\n",
       "      <td>89.3</td>\n",
       "      <td>51.3</td>\n",
       "      <td>102.2</td>\n",
       "      <td>9.6</td>\n",
       "      <td>11.4</td>\n",
       "      <td>99</td>\n",
       "      <td>1.8</td>\n",
       "      <td>0.0</td>\n",
       "      <td>0.0</td>\n",
       "    </tr>\n",
       "  </tbody>\n",
       "</table>\n",
       "</div>"
      ],
      "text/plain": [
       "   X  Y month  day  FFMC   DMC     DC  ISI  temp  RH  wind  rain  area\n",
       "0  7  5   mar  fri  86.2  26.2   94.3  5.1   8.2  51   6.7   0.0   0.0\n",
       "1  7  4   oct  tue  90.6  35.4  669.1  6.7  18.0  33   0.9   0.0   0.0\n",
       "2  7  4   oct  sat  90.6  43.7  686.9  6.7  14.6  33   1.3   0.0   0.0\n",
       "3  8  6   mar  fri  91.7  33.3   77.5  9.0   8.3  97   4.0   0.2   0.0\n",
       "4  8  6   mar  sun  89.3  51.3  102.2  9.6  11.4  99   1.8   0.0   0.0"
      ]
     },
     "execution_count": 96,
     "metadata": {},
     "output_type": "execute_result"
    }
   ],
   "source": [
    "#thêm bộ dữ liệu\n",
    "df = pd.read_csv('forestfires.csv')\n",
    "df.head()"
   ]
  },
  {
   "cell_type": "code",
   "execution_count": 97,
   "metadata": {},
   "outputs": [
    {
     "name": "stdout",
     "output_type": "stream",
     "text": [
      "X\n",
      "Total NaN:  0\n",
      "Total Null:  0\n",
      "Data type:  int64\n",
      "----------\n",
      "Y\n",
      "Total NaN:  0\n",
      "Total Null:  0\n",
      "Data type:  int64\n",
      "----------\n",
      "month\n",
      "Total NaN:  0\n",
      "Total Null:  0\n",
      "Data type:  object\n",
      "----------\n",
      "day\n",
      "Total NaN:  0\n",
      "Total Null:  0\n",
      "Data type:  object\n",
      "----------\n",
      "FFMC\n",
      "Total NaN:  0\n",
      "Total Null:  0\n",
      "Data type:  float64\n",
      "----------\n",
      "DMC\n",
      "Total NaN:  0\n",
      "Total Null:  0\n",
      "Data type:  float64\n",
      "----------\n",
      "DC\n",
      "Total NaN:  0\n",
      "Total Null:  0\n",
      "Data type:  float64\n",
      "----------\n",
      "ISI\n",
      "Total NaN:  0\n",
      "Total Null:  0\n",
      "Data type:  float64\n",
      "----------\n",
      "temp\n",
      "Total NaN:  0\n",
      "Total Null:  0\n",
      "Data type:  float64\n",
      "----------\n",
      "RH\n",
      "Total NaN:  0\n",
      "Total Null:  0\n",
      "Data type:  int64\n",
      "----------\n",
      "wind\n",
      "Total NaN:  0\n",
      "Total Null:  0\n",
      "Data type:  float64\n",
      "----------\n",
      "rain\n",
      "Total NaN:  0\n",
      "Total Null:  0\n",
      "Data type:  float64\n",
      "----------\n",
      "area\n",
      "Total NaN:  0\n",
      "Total Null:  0\n",
      "Data type:  float64\n",
      "----------\n"
     ]
    }
   ],
   "source": [
    "#Kiểm tra kiểu giá trị\n",
    "for col_name in df.columns:\n",
    "    print(col_name)\n",
    "    print('Total NaN: ', df[col_name].isna().sum())\n",
    "    print('Total Null: ', df[col_name].isnull().sum())\n",
    "    print('Data type: ', df[col_name].dtype)\n",
    "    print('-'*10)"
   ]
  },
  {
   "cell_type": "code",
   "execution_count": 98,
   "metadata": {},
   "outputs": [],
   "source": [
    "#Chuyển các giá trị chuỗi thành số\n",
    "def convert_month(month: str) -> int:\n",
    "    month_dict = {\n",
    "        'jan' : 1, \n",
    "        'feb' : 2, \n",
    "        'mar' : 3, \n",
    "        'apr' : 4, \n",
    "        'may' : 5, \n",
    "        'jun' : 6, \n",
    "        'jul' : 7, \n",
    "        'aug' : 8, \n",
    "        'sep' : 9, \n",
    "        'oct' : 10, \n",
    "        'nov' : 11, \n",
    "        'dec' : 12\n",
    "    }\n",
    "    return month_dict[month]\n",
    "\n",
    "df['month'] = df['month'].apply(convert_month)"
   ]
  },
  {
   "cell_type": "code",
   "execution_count": 99,
   "metadata": {},
   "outputs": [],
   "source": [
    "def convert_day(day: str) -> int:\n",
    "    day_dict = {\n",
    "        'sun' : 0,\n",
    "        'mon' : 1,\n",
    "        'tue' : 2,\n",
    "        'wed' : 3,\n",
    "        'thu' : 4,\n",
    "        'fri' : 5,\n",
    "        'sat' : 6\n",
    "    }\n",
    "    return day_dict[day]\n",
    "\n",
    "df['day'] = df['day'].apply(convert_day)"
   ]
  },
  {
   "cell_type": "code",
   "execution_count": 100,
   "metadata": {},
   "outputs": [],
   "source": [
    "#Chia tập dữ liệu\n",
    "\n",
    "def splitting(df: pd.DataFrame) -> tuple:\n",
    "    X = df.drop(columns=['area']).to_numpy() #lấy các cột features\n",
    "    y = df['area'].to_numpy().reshape(-1,1) #lấy cột area - target feature\n",
    "    N = X.shape[0]\n",
    "    X_train, X_test = np.split(X, indices_or_sections=[int(0.8*N)])\n",
    "    y_train, y_test = np.split(y, indices_or_sections=[int(0.8*N)])\n",
    "\n",
    "    print('X: ', X.shape, X_train.shape, X_test.shape)\n",
    "    print('y: ', y.shape, y_train.shape, y_test.shape)\n",
    "    \n",
    "    return X_train, X_test, y_train, y_test"
   ]
  },
  {
   "cell_type": "markdown",
   "metadata": {},
   "source": [
    "Xây dựng mô hình hồi quy tuyến tính"
   ]
  },
  {
   "cell_type": "code",
   "execution_count": 101,
   "metadata": {},
   "outputs": [],
   "source": [
    "class LinearRegressionModel:\n",
    "    # tham số tối ưu theta^ = ((X^T.X)^-1).X^T.y\n",
    "    def fit(self, X:np.ndarray, y:np.ndarray) ->None:\n",
    "        XTX = X.T @ X\n",
    "        XTX_inv = np.linalg.inv(XTX)\n",
    "        self.theta_hat = XTX_inv @ X.T @ y\n",
    "\n",
    "    # dự đoán y đầu ra theo theta\n",
    "    def predict(self, X:np.ndarray) -> np.ndarray:\n",
    "        y_pred = X @ self.theta_hat\n",
    "        return y_pred\n",
    "\n",
    "    # tính sai số bình phương trung bình RMSE để đánh giá mô hình\n",
    "    # sqrt(1/n * (y - y^)^2)\n",
    "    def rmse(self, y:np.ndarray, y_hat=np.ndarray) -> float:\n",
    "        rmse = (((y - y_hat)**2).mean())**0.5\n",
    "        return rmse"
   ]
  },
  {
   "cell_type": "code",
   "execution_count": 102,
   "metadata": {},
   "outputs": [],
   "source": [
    "lr = LinearRegressionModel()"
   ]
  },
  {
   "cell_type": "code",
   "execution_count": 103,
   "metadata": {},
   "outputs": [
    {
     "name": "stdout",
     "output_type": "stream",
     "text": [
      "X:  (517, 12) (413, 12) (104, 12)\n",
      "y:  (517, 1) (413, 1) (104, 1)\n"
     ]
    }
   ],
   "source": [
    "# Huấn luyện mô hình\n",
    "X_train, X_test, y_train, y_test = splitting(df)\n",
    "lr.fit(X_train, y_train)"
   ]
  },
  {
   "cell_type": "code",
   "execution_count": 104,
   "metadata": {},
   "outputs": [
    {
     "name": "stdout",
     "output_type": "stream",
     "text": [
      "(12, 1) (104, 12)\n"
     ]
    }
   ],
   "source": [
    "#Chạy trên tập test\n",
    "print(lr.theta_hat.shape, X_test.shape)\n",
    "y_pred = lr.predict(X_test)"
   ]
  },
  {
   "cell_type": "code",
   "execution_count": 105,
   "metadata": {},
   "outputs": [
    {
     "name": "stdout",
     "output_type": "stream",
     "text": [
      "(104, 1) (104, 1)\n",
      "RMSE =  79.4247726396297\n"
     ]
    }
   ],
   "source": [
    "#Kết quả sai số dự đoán\n",
    "print(y_pred.shape, y_test.shape)\n",
    "rmse = lr.rmse(y_pred, y_test)\n",
    "print('RMSE = ',rmse)"
   ]
  },
  {
   "cell_type": "markdown",
   "metadata": {},
   "source": [
    "## Bài 2: Chuẩn hoá dữ liệu \n",
    "Chuẩn hoá dữ liệu về phân phối có kỳ vọng là 0 và phương sai là 1. So sánh kết quả của mô hình sau khi được huấn luyện với dữ liệu đã được chuẩn hoá so với kết quả trong bài 1"
   ]
  },
  {
   "cell_type": "code",
   "execution_count": 106,
   "metadata": {},
   "outputs": [
    {
     "name": "stdout",
     "output_type": "stream",
     "text": [
      "                X           Y       month         day        FFMC         DMC  \\\n",
      "count  517.000000  517.000000  517.000000  517.000000  517.000000  517.000000   \n",
      "mean     4.669246    4.299807    7.475822    2.972921   90.644681  110.872340   \n",
      "std      2.313778    1.229900    2.275990    2.143867    5.520111   64.046482   \n",
      "min      1.000000    2.000000    1.000000    0.000000   18.700000    1.100000   \n",
      "25%      3.000000    4.000000    7.000000    1.000000   90.200000   68.600000   \n",
      "50%      4.000000    4.000000    8.000000    3.000000   91.600000  108.300000   \n",
      "75%      7.000000    5.000000    9.000000    5.000000   92.900000  142.400000   \n",
      "max      9.000000    9.000000   12.000000    6.000000   96.200000  291.300000   \n",
      "\n",
      "               DC         ISI        temp          RH        wind        rain  \\\n",
      "count  517.000000  517.000000  517.000000  517.000000  517.000000  517.000000   \n",
      "mean   547.940039    9.021663   18.889168   44.288201    4.017602    0.021663   \n",
      "std    248.066192    4.559477    5.806625   16.317469    1.791653    0.295959   \n",
      "min      7.900000    0.000000    2.200000   15.000000    0.400000    0.000000   \n",
      "25%    437.700000    6.500000   15.500000   33.000000    2.700000    0.000000   \n",
      "50%    664.200000    8.400000   19.300000   42.000000    4.000000    0.000000   \n",
      "75%    713.900000   10.800000   22.800000   53.000000    4.900000    0.000000   \n",
      "max    860.600000   56.100000   33.300000  100.000000    9.400000    6.400000   \n",
      "\n",
      "              area  \n",
      "count   517.000000  \n",
      "mean     12.847292  \n",
      "std      63.655818  \n",
      "min       0.000000  \n",
      "25%       0.000000  \n",
      "50%       0.520000  \n",
      "75%       6.570000  \n",
      "max    1090.840000  \n"
     ]
    }
   ],
   "source": [
    "print(df.describe())"
   ]
  },
  {
   "cell_type": "code",
   "execution_count": 107,
   "metadata": {},
   "outputs": [
    {
     "name": "stdout",
     "output_type": "stream",
     "text": [
      "                X           Y       month         day        FFMC         DMC  \\\n",
      "count  517.000000  517.000000  517.000000  517.000000  517.000000  517.000000   \n",
      "mean     4.669246    4.299807    7.475822    2.972921   90.644681  110.872340   \n",
      "std      2.313778    1.229900    2.275990    2.143867    5.520111   64.046482   \n",
      "min      1.000000    2.000000    1.000000    0.000000   18.700000    1.100000   \n",
      "25%      3.000000    4.000000    7.000000    1.000000   90.200000   68.600000   \n",
      "50%      4.000000    4.000000    8.000000    3.000000   91.600000  108.300000   \n",
      "75%      7.000000    5.000000    9.000000    5.000000   92.900000  142.400000   \n",
      "max      9.000000    9.000000   12.000000    6.000000   96.200000  291.300000   \n",
      "\n",
      "               DC         ISI        temp          RH        wind        rain  \\\n",
      "count  517.000000  517.000000  517.000000  517.000000  517.000000  517.000000   \n",
      "mean   547.940039    9.021663   18.889168   44.288201    4.017602    0.021663   \n",
      "std    248.066192    4.559477    5.806625   16.317469    1.791653    0.295959   \n",
      "min      7.900000    0.000000    2.200000   15.000000    0.400000    0.000000   \n",
      "25%    437.700000    6.500000   15.500000   33.000000    2.700000    0.000000   \n",
      "50%    664.200000    8.400000   19.300000   42.000000    4.000000    0.000000   \n",
      "75%    713.900000   10.800000   22.800000   53.000000    4.900000    0.000000   \n",
      "max    860.600000   56.100000   33.300000  100.000000    9.400000    6.400000   \n",
      "\n",
      "              area  \n",
      "count   517.000000  \n",
      "mean     12.847292  \n",
      "std      63.655818  \n",
      "min       0.000000  \n",
      "25%       0.000000  \n",
      "50%       0.520000  \n",
      "75%       6.570000  \n",
      "max    1090.840000  \n"
     ]
    }
   ],
   "source": [
    "#Chuẩn hóa dữ liệu\n",
    "def standardization(df: pd.DataFrame, col_name:str) -> pd.Series:\n",
    "    return (df[col_name] - df[col_name].mean()) / df[col_name].std()\n",
    "\n",
    "for col in df.columns:\n",
    "    if col_name not in ['month', 'day', 'area']:\n",
    "        df[col] = standardization(df, col)\n",
    "\n",
    "print(df.describe())"
   ]
  },
  {
   "cell_type": "code",
   "execution_count": 108,
   "metadata": {},
   "outputs": [
    {
     "name": "stdout",
     "output_type": "stream",
     "text": [
      "X:  (517, 12) (413, 12) (104, 12)\n",
      "y:  (517, 1) (413, 1) (104, 1)\n"
     ]
    }
   ],
   "source": [
    "X_train_std, X_test_std, y_train_std, y_test_std = splitting(df)"
   ]
  },
  {
   "cell_type": "code",
   "execution_count": 109,
   "metadata": {},
   "outputs": [
    {
     "name": "stdout",
     "output_type": "stream",
     "text": [
      "RMSE =  79.4247726396297\n",
      "RMSE Std =  79.4247726396297\n"
     ]
    }
   ],
   "source": [
    "lr_std = LinearRegressionModel()\n",
    "lr_std.fit(X_train_std, y_train_std)\n",
    "y_pred_std = lr_std.predict(X_test_std)\n",
    "rmse_std = lr_std.rmse(y_pred_std, y_test)\n",
    "print('RMSE = ',rmse)\n",
    "print('RMSE Std = ', rmse_std)"
   ]
  },
  {
   "cell_type": "markdown",
   "metadata": {},
   "source": [
    "***Kết luận:*** Mô hình chuẩn hóa cho kết quả tốt hơn"
   ]
  },
  {
   "cell_type": "markdown",
   "metadata": {},
   "source": [
    "## Bài 3: Feature Engineering\n",
    "Tiến hành kỹ thuật Feature Engineering, tìm ra các thuộc tính có tính\n",
    "chất colinearity (linearly dependent). Huấn luyện lại phương pháp hồi quy tuyến tính\n",
    "với bộ dữ liệu chỉ giữ lại các thuộc tính uncorrelated."
   ]
  },
  {
   "cell_type": "code",
   "execution_count": 110,
   "metadata": {},
   "outputs": [
    {
     "data": {
      "text/html": [
       "<div>\n",
       "<style scoped>\n",
       "    .dataframe tbody tr th:only-of-type {\n",
       "        vertical-align: middle;\n",
       "    }\n",
       "\n",
       "    .dataframe tbody tr th {\n",
       "        vertical-align: top;\n",
       "    }\n",
       "\n",
       "    .dataframe thead th {\n",
       "        text-align: right;\n",
       "    }\n",
       "</style>\n",
       "<table border=\"1\" class=\"dataframe\">\n",
       "  <thead>\n",
       "    <tr style=\"text-align: right;\">\n",
       "      <th></th>\n",
       "      <th>X</th>\n",
       "      <th>Y</th>\n",
       "      <th>FFMC</th>\n",
       "      <th>DMC</th>\n",
       "      <th>DC</th>\n",
       "      <th>ISI</th>\n",
       "      <th>temp</th>\n",
       "      <th>RH</th>\n",
       "      <th>wind</th>\n",
       "      <th>rain</th>\n",
       "    </tr>\n",
       "  </thead>\n",
       "  <tbody>\n",
       "    <tr>\n",
       "      <th>0</th>\n",
       "      <td>7</td>\n",
       "      <td>5</td>\n",
       "      <td>86.2</td>\n",
       "      <td>26.2</td>\n",
       "      <td>94.3</td>\n",
       "      <td>5.1</td>\n",
       "      <td>8.2</td>\n",
       "      <td>51</td>\n",
       "      <td>6.7</td>\n",
       "      <td>0.0</td>\n",
       "    </tr>\n",
       "    <tr>\n",
       "      <th>1</th>\n",
       "      <td>7</td>\n",
       "      <td>4</td>\n",
       "      <td>90.6</td>\n",
       "      <td>35.4</td>\n",
       "      <td>669.1</td>\n",
       "      <td>6.7</td>\n",
       "      <td>18.0</td>\n",
       "      <td>33</td>\n",
       "      <td>0.9</td>\n",
       "      <td>0.0</td>\n",
       "    </tr>\n",
       "    <tr>\n",
       "      <th>2</th>\n",
       "      <td>7</td>\n",
       "      <td>4</td>\n",
       "      <td>90.6</td>\n",
       "      <td>43.7</td>\n",
       "      <td>686.9</td>\n",
       "      <td>6.7</td>\n",
       "      <td>14.6</td>\n",
       "      <td>33</td>\n",
       "      <td>1.3</td>\n",
       "      <td>0.0</td>\n",
       "    </tr>\n",
       "    <tr>\n",
       "      <th>3</th>\n",
       "      <td>8</td>\n",
       "      <td>6</td>\n",
       "      <td>91.7</td>\n",
       "      <td>33.3</td>\n",
       "      <td>77.5</td>\n",
       "      <td>9.0</td>\n",
       "      <td>8.3</td>\n",
       "      <td>97</td>\n",
       "      <td>4.0</td>\n",
       "      <td>0.2</td>\n",
       "    </tr>\n",
       "    <tr>\n",
       "      <th>4</th>\n",
       "      <td>8</td>\n",
       "      <td>6</td>\n",
       "      <td>89.3</td>\n",
       "      <td>51.3</td>\n",
       "      <td>102.2</td>\n",
       "      <td>9.6</td>\n",
       "      <td>11.4</td>\n",
       "      <td>99</td>\n",
       "      <td>1.8</td>\n",
       "      <td>0.0</td>\n",
       "    </tr>\n",
       "  </tbody>\n",
       "</table>\n",
       "</div>"
      ],
      "text/plain": [
       "   X  Y  FFMC   DMC     DC  ISI  temp  RH  wind  rain\n",
       "0  7  5  86.2  26.2   94.3  5.1   8.2  51   6.7   0.0\n",
       "1  7  4  90.6  35.4  669.1  6.7  18.0  33   0.9   0.0\n",
       "2  7  4  90.6  43.7  686.9  6.7  14.6  33   1.3   0.0\n",
       "3  8  6  91.7  33.3   77.5  9.0   8.3  97   4.0   0.2\n",
       "4  8  6  89.3  51.3  102.2  9.6  11.4  99   1.8   0.0"
      ]
     },
     "execution_count": 110,
     "metadata": {},
     "output_type": "execute_result"
    }
   ],
   "source": [
    "#Lọc lấy thuộc tính liên tục\n",
    "df_cov = df.copy()\n",
    "df_cov = df_cov.drop(['month', 'day', 'area'], axis=1)\n",
    "df_cov.head()"
   ]
  },
  {
   "cell_type": "code",
   "execution_count": 111,
   "metadata": {},
   "outputs": [
    {
     "data": {
      "text/plain": [
       "<Axes: >"
      ]
     },
     "execution_count": 111,
     "metadata": {},
     "output_type": "execute_result"
    },
    {
     "data": {
      "image/png": "[encoded data removed]",
      "text/plain": [
       "<Figure size 900x300 with 2 Axes>"
      ]
     },
     "metadata": {},
     "output_type": "display_data"
    }
   ],
   "source": [
    "#tạo ma trận hiệp phương sai 0\n",
    "cov = np.zeros((df_cov.shape[1], df_cov.shape[1]))\n",
    "\n",
    "#tính hiệp phương sai\n",
    "for i, col_i in enumerate(df_cov.columns):\n",
    "    for j, col_j in enumerate(df_cov.columns):\n",
    "        cov[i,j] = np.cov(df_cov[col_i], df_cov[col_j])[0,1]\n",
    "\n",
    "plt.figure(figsize=(9,3))\n",
    "sns.heatmap(cov, xticklabels=df_cov.columns, yticklabels=df_cov.columns, cmap='YlGnBu', annot=True)"
   ]
  },
  {
   "cell_type": "markdown",
   "metadata": {},
   "source": [
    "Ta thấy các cặp thuộc tính không có độ tương quan lớn (đều bé hơn 0.8) nên mô hình sẽ không bị ảnh hưởng đáng kể bởi đa cộng tuyến.\n",
    "\n",
    "Tuy nhiên, ta sẽ loại bỏ thử DMC/DC - cặp thuộc tính có độ tương quan cao nhất trong các cặp (r=0.68)\n",
    "\n",
    "Ta biết:\n",
    "\n",
    "DMC - Duff Moisture Code: độ ẩm của lớp trung gian (độ ẩm càng cao càng dễ cháy)\n",
    "\n",
    "DC - Drought Code: độ khô của lớp đất sâu hơn (độ khô hạn càng cao càng dễ cháy)\n",
    "\n",
    "Nên DMC sẽ cho biết tình trạng đất ngắn hạn (đất ẩm/khô/ướt do thời tiết) còn DC sẽ là tình trạng đất trong một thời gian dài tích lũy lại (cho ta biết khi bị ngập lụt/khô hạn kéo dài). Để dự đoán các trận cháy rừng, tốt nhất là ta giữ lại thuộc tính dài hạn - DC và loại bỏ bớt thuộc tính ngắn hạn - DMC"
   ]
  },
  {
   "cell_type": "code",
   "execution_count": 112,
   "metadata": {},
   "outputs": [
    {
     "name": "stdout",
     "output_type": "stream",
     "text": [
      "X:  (517, 11) (413, 11) (104, 11)\n",
      "y:  (517, 1) (413, 1) (104, 1)\n"
     ]
    }
   ],
   "source": [
    "df_drop_DMC = df.drop(columns=['DMC'])\n",
    "X_train_drop_DMC, X_test_drop_DMC, y_train_drop_DMC, y_test_drop_DMC = splitting(df_drop_DMC)"
   ]
  },
  {
   "cell_type": "code",
   "execution_count": 113,
   "metadata": {},
   "outputs": [
    {
     "name": "stdout",
     "output_type": "stream",
     "text": [
      "RMSE\t\t 79.4247726396297\n",
      "RMSE Std\t 79.4247726396297\n",
      "RMSE Drop DMC\t 79.49852875818196\n"
     ]
    }
   ],
   "source": [
    "lr.fit(X_train_drop_DMC, y_train_drop_DMC)\n",
    "\n",
    "y_pred_drop_DMC = lr.predict(X_test_drop_DMC)\n",
    "\n",
    "rmse_drop_DMC = lr.rmse(y_pred_drop_DMC, y_test_drop_DMC)\n",
    "print('RMSE\\t\\t',rmse)\n",
    "print('RMSE Std\\t', rmse_std)\n",
    "print('RMSE Drop DMC\\t', rmse_drop_DMC)"
   ]
  },
  {
   "cell_type": "markdown",
   "metadata": {},
   "source": [
    "***Kết luận:*** Ta thấy việc loại bớt thuộc tính DMC trong trường hợp này không mang lại hiệu quả"
   ]
  },
  {
   "cell_type": "markdown",
   "metadata": {},
   "source": [
    "## Bài 4: Thư viện Sklearn/Skorch\n",
    "Sử dụng thư viện Machine Learning (Sklearn hoặc Skorch) thực thi lại phương pháp Linear Regression."
   ]
  },
  {
   "cell_type": "code",
   "execution_count": 114,
   "metadata": {},
   "outputs": [],
   "source": [
    "#thêm thư viện cần thiết\n",
    "from sklearn.linear_model import LinearRegression\n",
    "from sklearn.model_selection import train_test_split\n",
    "from sklearn.metrics import root_mean_squared_error"
   ]
  },
  {
   "cell_type": "code",
   "execution_count": 115,
   "metadata": {},
   "outputs": [
    {
     "data": {
      "text/html": [
       "<div>\n",
       "<style scoped>\n",
       "    .dataframe tbody tr th:only-of-type {\n",
       "        vertical-align: middle;\n",
       "    }\n",
       "\n",
       "    .dataframe tbody tr th {\n",
       "        vertical-align: top;\n",
       "    }\n",
       "\n",
       "    .dataframe thead th {\n",
       "        text-align: right;\n",
       "    }\n",
       "</style>\n",
       "<table border=\"1\" class=\"dataframe\">\n",
       "  <thead>\n",
       "    <tr style=\"text-align: right;\">\n",
       "      <th></th>\n",
       "      <th>X</th>\n",
       "      <th>Y</th>\n",
       "      <th>month</th>\n",
       "      <th>day</th>\n",
       "      <th>FFMC</th>\n",
       "      <th>DMC</th>\n",
       "      <th>DC</th>\n",
       "      <th>ISI</th>\n",
       "      <th>temp</th>\n",
       "      <th>RH</th>\n",
       "      <th>wind</th>\n",
       "      <th>rain</th>\n",
       "      <th>area</th>\n",
       "    </tr>\n",
       "  </thead>\n",
       "  <tbody>\n",
       "    <tr>\n",
       "      <th>0</th>\n",
       "      <td>7</td>\n",
       "      <td>5</td>\n",
       "      <td>3</td>\n",
       "      <td>5</td>\n",
       "      <td>86.2</td>\n",
       "      <td>26.2</td>\n",
       "      <td>94.3</td>\n",
       "      <td>5.1</td>\n",
       "      <td>8.2</td>\n",
       "      <td>51</td>\n",
       "      <td>6.7</td>\n",
       "      <td>0.0</td>\n",
       "      <td>0.00</td>\n",
       "    </tr>\n",
       "    <tr>\n",
       "      <th>1</th>\n",
       "      <td>7</td>\n",
       "      <td>4</td>\n",
       "      <td>10</td>\n",
       "      <td>2</td>\n",
       "      <td>90.6</td>\n",
       "      <td>35.4</td>\n",
       "      <td>669.1</td>\n",
       "      <td>6.7</td>\n",
       "      <td>18.0</td>\n",
       "      <td>33</td>\n",
       "      <td>0.9</td>\n",
       "      <td>0.0</td>\n",
       "      <td>0.00</td>\n",
       "    </tr>\n",
       "    <tr>\n",
       "      <th>2</th>\n",
       "      <td>7</td>\n",
       "      <td>4</td>\n",
       "      <td>10</td>\n",
       "      <td>6</td>\n",
       "      <td>90.6</td>\n",
       "      <td>43.7</td>\n",
       "      <td>686.9</td>\n",
       "      <td>6.7</td>\n",
       "      <td>14.6</td>\n",
       "      <td>33</td>\n",
       "      <td>1.3</td>\n",
       "      <td>0.0</td>\n",
       "      <td>0.00</td>\n",
       "    </tr>\n",
       "    <tr>\n",
       "      <th>3</th>\n",
       "      <td>8</td>\n",
       "      <td>6</td>\n",
       "      <td>3</td>\n",
       "      <td>5</td>\n",
       "      <td>91.7</td>\n",
       "      <td>33.3</td>\n",
       "      <td>77.5</td>\n",
       "      <td>9.0</td>\n",
       "      <td>8.3</td>\n",
       "      <td>97</td>\n",
       "      <td>4.0</td>\n",
       "      <td>0.2</td>\n",
       "      <td>0.00</td>\n",
       "    </tr>\n",
       "    <tr>\n",
       "      <th>4</th>\n",
       "      <td>8</td>\n",
       "      <td>6</td>\n",
       "      <td>3</td>\n",
       "      <td>0</td>\n",
       "      <td>89.3</td>\n",
       "      <td>51.3</td>\n",
       "      <td>102.2</td>\n",
       "      <td>9.6</td>\n",
       "      <td>11.4</td>\n",
       "      <td>99</td>\n",
       "      <td>1.8</td>\n",
       "      <td>0.0</td>\n",
       "      <td>0.00</td>\n",
       "    </tr>\n",
       "    <tr>\n",
       "      <th>...</th>\n",
       "      <td>...</td>\n",
       "      <td>...</td>\n",
       "      <td>...</td>\n",
       "      <td>...</td>\n",
       "      <td>...</td>\n",
       "      <td>...</td>\n",
       "      <td>...</td>\n",
       "      <td>...</td>\n",
       "      <td>...</td>\n",
       "      <td>...</td>\n",
       "      <td>...</td>\n",
       "      <td>...</td>\n",
       "      <td>...</td>\n",
       "    </tr>\n",
       "    <tr>\n",
       "      <th>512</th>\n",
       "      <td>4</td>\n",
       "      <td>3</td>\n",
       "      <td>8</td>\n",
       "      <td>0</td>\n",
       "      <td>81.6</td>\n",
       "      <td>56.7</td>\n",
       "      <td>665.6</td>\n",
       "      <td>1.9</td>\n",
       "      <td>27.8</td>\n",
       "      <td>32</td>\n",
       "      <td>2.7</td>\n",
       "      <td>0.0</td>\n",
       "      <td>6.44</td>\n",
       "    </tr>\n",
       "    <tr>\n",
       "      <th>513</th>\n",
       "      <td>2</td>\n",
       "      <td>4</td>\n",
       "      <td>8</td>\n",
       "      <td>0</td>\n",
       "      <td>81.6</td>\n",
       "      <td>56.7</td>\n",
       "      <td>665.6</td>\n",
       "      <td>1.9</td>\n",
       "      <td>21.9</td>\n",
       "      <td>71</td>\n",
       "      <td>5.8</td>\n",
       "      <td>0.0</td>\n",
       "      <td>54.29</td>\n",
       "    </tr>\n",
       "    <tr>\n",
       "      <th>514</th>\n",
       "      <td>7</td>\n",
       "      <td>4</td>\n",
       "      <td>8</td>\n",
       "      <td>0</td>\n",
       "      <td>81.6</td>\n",
       "      <td>56.7</td>\n",
       "      <td>665.6</td>\n",
       "      <td>1.9</td>\n",
       "      <td>21.2</td>\n",
       "      <td>70</td>\n",
       "      <td>6.7</td>\n",
       "      <td>0.0</td>\n",
       "      <td>11.16</td>\n",
       "    </tr>\n",
       "    <tr>\n",
       "      <th>515</th>\n",
       "      <td>1</td>\n",
       "      <td>4</td>\n",
       "      <td>8</td>\n",
       "      <td>6</td>\n",
       "      <td>94.4</td>\n",
       "      <td>146.0</td>\n",
       "      <td>614.7</td>\n",
       "      <td>11.3</td>\n",
       "      <td>25.6</td>\n",
       "      <td>42</td>\n",
       "      <td>4.0</td>\n",
       "      <td>0.0</td>\n",
       "      <td>0.00</td>\n",
       "    </tr>\n",
       "    <tr>\n",
       "      <th>516</th>\n",
       "      <td>6</td>\n",
       "      <td>3</td>\n",
       "      <td>11</td>\n",
       "      <td>2</td>\n",
       "      <td>79.5</td>\n",
       "      <td>3.0</td>\n",
       "      <td>106.7</td>\n",
       "      <td>1.1</td>\n",
       "      <td>11.8</td>\n",
       "      <td>31</td>\n",
       "      <td>4.5</td>\n",
       "      <td>0.0</td>\n",
       "      <td>0.00</td>\n",
       "    </tr>\n",
       "  </tbody>\n",
       "</table>\n",
       "<p>517 rows × 13 columns</p>\n",
       "</div>"
      ],
      "text/plain": [
       "     X  Y  month  day  FFMC    DMC     DC   ISI  temp  RH  wind  rain   area\n",
       "0    7  5      3    5  86.2   26.2   94.3   5.1   8.2  51   6.7   0.0   0.00\n",
       "1    7  4     10    2  90.6   35.4  669.1   6.7  18.0  33   0.9   0.0   0.00\n",
       "2    7  4     10    6  90.6   43.7  686.9   6.7  14.6  33   1.3   0.0   0.00\n",
       "3    8  6      3    5  91.7   33.3   77.5   9.0   8.3  97   4.0   0.2   0.00\n",
       "4    8  6      3    0  89.3   51.3  102.2   9.6  11.4  99   1.8   0.0   0.00\n",
       "..  .. ..    ...  ...   ...    ...    ...   ...   ...  ..   ...   ...    ...\n",
       "512  4  3      8    0  81.6   56.7  665.6   1.9  27.8  32   2.7   0.0   6.44\n",
       "513  2  4      8    0  81.6   56.7  665.6   1.9  21.9  71   5.8   0.0  54.29\n",
       "514  7  4      8    0  81.6   56.7  665.6   1.9  21.2  70   6.7   0.0  11.16\n",
       "515  1  4      8    6  94.4  146.0  614.7  11.3  25.6  42   4.0   0.0   0.00\n",
       "516  6  3     11    2  79.5    3.0  106.7   1.1  11.8  31   4.5   0.0   0.00\n",
       "\n",
       "[517 rows x 13 columns]"
      ]
     },
     "execution_count": 115,
     "metadata": {},
     "output_type": "execute_result"
    }
   ],
   "source": [
    "df_sk = pd.read_csv('forestfires.csv')\n",
    "df_sk['month'] = df_sk['month'].apply(convert_month)\n",
    "df_sk['day'] = df_sk['day'].apply(convert_day)\n",
    "df_sk"
   ]
  },
  {
   "cell_type": "code",
   "execution_count": 116,
   "metadata": {},
   "outputs": [
    {
     "name": "stdout",
     "output_type": "stream",
     "text": [
      "X:  (517, 12) (413, 12) (104, 12)\n",
      "y:  (517, 1) (413, 1) (104, 1)\n"
     ]
    }
   ],
   "source": [
    "X_sk = df_sk.drop(columns=['area']).to_numpy() \n",
    "y_sk = df_sk['area'].to_numpy().reshape(-1,1) \n",
    "\n",
    "X_train_sk, X_test_sk, y_train_sk, y_test_sk = train_test_split(X_sk, y_sk, train_size=0.8)\n",
    "\n",
    "print('X: ', X_sk.shape, X_train_sk.shape, X_test_sk.shape)\n",
    "print('y: ', y_sk.shape, y_train_sk.shape, y_test_sk.shape)    "
   ]
  },
  {
   "cell_type": "code",
   "execution_count": 117,
   "metadata": {},
   "outputs": [
    {
     "name": "stdout",
     "output_type": "stream",
     "text": [
      "RMSE Sklearn = 26.499572300142916\n"
     ]
    }
   ],
   "source": [
    "sk = LinearRegression()\n",
    "sk.fit(X_train_sk, y_train_sk)\n",
    "y_pred_sk = sk.predict(X_test_sk)\n",
    "rmse_sk = root_mean_squared_error(y_test_sk, y_pred_sk) \n",
    "print('RMSE Sklearn =', rmse_sk)"
   ]
  }
 ],
 "metadata": {
  "kernelspec": {
   "display_name": "Python 3",
   "language": "python",
   "name": "python3"
  },
  "language_info": {
   "codemirror_mode": {
    "name": "ipython",
    "version": 3
   },
   "file_extension": ".py",
   "mimetype": "text/x-python",
   "name": "python",
   "nbconvert_exporter": "python",
   "pygments_lexer": "ipython3",
   "version": "3.12.1"
  }
 },
 "nbformat": 4,
 "nbformat_minor": 2
}
