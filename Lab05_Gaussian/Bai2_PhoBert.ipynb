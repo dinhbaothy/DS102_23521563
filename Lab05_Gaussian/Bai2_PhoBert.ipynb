{
 "cells": [
  {
   "cell_type": "markdown",
   "id": "3b6e4a4e",
   "metadata": {},
   "source": [
    "## Bài 2: (2 điểm) \n",
    "Sử dụng PhoBERT để trích xuất vector ngữ nghĩa của các câu phản hồi (sau khi đã được phân đoạn từ)."
   ]
  },
  {
   "cell_type": "code",
   "execution_count": 1,
   "id": "64f34b46",
   "metadata": {},
   "outputs": [],
   "source": [
    "import json\n",
    "import torch\n",
    "import os\n",
    "from transformers import AutoModel, AutoTokenizer"
   ]
  },
  {
   "cell_type": "code",
   "execution_count": null,
   "id": "8897d9ea",
   "metadata": {},
   "outputs": [],
   "source": [
    "class PhobertModel:\n",
    "    def __init__(self):\n",
    "        self.phobert = AutoModel.from_pretrained(\"vinai/phobert-base-v2\")\n",
    "        self.tokenizer = AutoTokenizer.from_pretrained(\"vinai/phobert-base-v2\")\n",
    "\n",
    "    def features_extracting(self, input_file, output_file):\n",
    "        with open(input_file, 'r', encoding='utf-8') as f:\n",
    "            data = json.load(f)\n",
    "        \n",
    "        for i, entry in enumerate(data):\n",
    "            segmentation = entry['segmentation']\n",
    "            input_ids = torch.tensor([self.tokenizer.encode(segmentation)])\n",
    "            with torch.no_grad():\n",
    "                output = self.phobert(input_ids)\n",
    "                features = output.last_hidden_state\n",
    "            features_embeddings = features.squeeze(0).numpy().tolist()\n",
    "            entry['features'] = features_embeddings\n",
    "            if i < 3:\n",
    "                print('entry', ':', segmentation)\n",
    "                print('input_ids:', input_ids.shape) \n",
    "                print('features:', features.shape)\n",
    "\n",
    "        with open(output_file, 'w', encoding='utf-8') as f:\n",
    "            json.dump(data, f, ensure_ascii=False, indent=4)\n",
    "            print(f\"Processed {len(data)} entries and saved to {output_file}\\n\")"
   ]
  },
  {
   "cell_type": "code",
   "execution_count": 3,
   "id": "ff352fd2",
   "metadata": {},
   "outputs": [
    {
     "name": "stderr",
     "output_type": "stream",
     "text": [
      "Some weights of RobertaModel were not initialized from the model checkpoint at vinai/phobert-base-v2 and are newly initialized: ['roberta.pooler.dense.bias', 'roberta.pooler.dense.weight']\n",
      "You should probably TRAIN this model on a down-stream task to be able to use it for predictions and inference.\n"
     ]
    },
    {
     "name": "stdout",
     "output_type": "stream",
     "text": [
      "entry : giáo_trình chưa cụ_thể .\n",
      "input_ids: torch.Size([1, 6])\n",
      "features: torch.Size([1, 6, 768])\n",
      "entry : giảng buồn_ngủ .\n",
      "input_ids: torch.Size([1, 5])\n",
      "features: torch.Size([1, 5, 768])\n",
      "entry : giáo_viên vui_tính , tận_tâm .\n",
      "input_ids: torch.Size([1, 7])\n",
      "features: torch.Size([1, 7, 768])\n",
      "Processed 1583 entries and saved to d:\\UIT\\DS\\DS102\\Gaussian\\vector_data\\UIT-VSFC-dev.json/n\n",
      "entry : nói tiếng anh lưu_loát .\n",
      "input_ids: torch.Size([1, 7])\n",
      "features: torch.Size([1, 7, 768])\n",
      "entry : giáo_viên rất vui_tính .\n",
      "input_ids: torch.Size([1, 6])\n",
      "features: torch.Size([1, 6, 768])\n",
      "entry : cô max có tâm .\n",
      "input_ids: torch.Size([1, 7])\n",
      "features: torch.Size([1, 7, 768])\n",
      "Processed 3166 entries and saved to d:\\UIT\\DS\\DS102\\Gaussian\\vector_data\\UIT-VSFC-test.json/n\n",
      "entry : slide giáo_trình đầy_đủ .\n",
      "input_ids: torch.Size([1, 6])\n",
      "features: torch.Size([1, 6, 768])\n",
      "entry : nhiệt_tình giảng_dạy , gần_gũi với sinh_viên .\n",
      "input_ids: torch.Size([1, 9])\n",
      "features: torch.Size([1, 9, 768])\n",
      "entry : đi học đầy_đủ full điểm chuyên_cần .\n",
      "input_ids: torch.Size([1, 9])\n",
      "features: torch.Size([1, 9, 768])\n",
      "Processed 11426 entries and saved to d:\\UIT\\DS\\DS102\\Gaussian\\vector_data\\UIT-VSFC-train.json/n\n"
     ]
    }
   ],
   "source": [
    "if __name__ == '__main__':\n",
    "    model = PhobertModel()\n",
    "\n",
    "    segmented_path = os.path.join(os.getcwd(), 'segmented_data')\n",
    "    vector_path = os.path.join(os.getcwd(), 'vector_data')\n",
    "\n",
    "    for file in os.listdir(segmented_path):\n",
    "        model.features_extracting(os.path.join(segmented_path, file), os.path.join(vector_path, file))"
   ]
  }
 ],
 "metadata": {
  "kernelspec": {
   "display_name": "Python 3",
   "language": "python",
   "name": "python3"
  },
  "language_info": {
   "codemirror_mode": {
    "name": "ipython",
    "version": 3
   },
   "file_extension": ".py",
   "mimetype": "text/x-python",
   "name": "python",
   "nbconvert_exporter": "python",
   "pygments_lexer": "ipython3",
   "version": "3.8.0"
  }
 },
 "nbformat": 4,
 "nbformat_minor": 5
}
