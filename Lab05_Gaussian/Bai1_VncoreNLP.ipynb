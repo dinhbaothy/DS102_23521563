{
 "cells": [
  {
   "cell_type": "markdown",
   "id": "04aa4e23",
   "metadata": {},
   "source": [
    "## Bài 1: (2 điểm) \n",
    "\n",
    "Sử dụng bộ ngữ liệu UIT-VSFC với bài toán phân loại cảm xúc dựa trên phản hồi của sinh viên, thực hiện phân đoạn từ (Word Segmentation) bằng công cụ VnCoreNLP."
   ]
  },
  {
   "cell_type": "code",
   "execution_count": null,
   "id": "453f788c",
   "metadata": {},
   "outputs": [],
   "source": [
    "import os\n",
    "import json\n",
    "import py_vncorenlp"
   ]
  },
  {
   "cell_type": "code",
   "execution_count": 2,
   "id": "524b8828",
   "metadata": {},
   "outputs": [
    {
     "data": {
      "text/plain": [
       "'d:\\\\UIT\\\\DS\\\\DS102\\\\Gaussian'"
      ]
     },
     "execution_count": 2,
     "metadata": {},
     "output_type": "execute_result"
    }
   ],
   "source": [
    "os.getcwd()"
   ]
  },
  {
   "cell_type": "code",
   "execution_count": 3,
   "id": "00a767a9",
   "metadata": {},
   "outputs": [],
   "source": [
    "class VnCoreNLPWrapper:\n",
    "    def __init__(self):\n",
    "        self.orginal_dir = os.getcwd()\n",
    "        self.model_dir = os.path.join(self.orginal_dir, 'vncorenlp')\n",
    "        self.rdrsegmenter = py_vncorenlp.VnCoreNLP(annotators=[\"wseg\"], save_dir=self.model_dir)\n",
    "\n",
    "    def segment_json(self, input_file, output_file):\n",
    "        input_file = os.path.join(self.orginal_dir, input_file)\n",
    "        output_file = os.path.join(self.orginal_dir, output_file)\n",
    "        with open(input_file, 'r', encoding='utf-8') as f:\n",
    "            data = json.load(f)\n",
    "        \n",
    "        for i, entry in enumerate(data):\n",
    "            sentence = entry['sentence']\n",
    "            segmentation = self.rdrsegmenter.word_segment(sentence)\n",
    "            entry['segmentation'] = ' '.join(segmentation)\n",
    "\n",
    "            if i < 3:\n",
    "                print(f\"Original: {sentence}\")\n",
    "                print(f\"Segmented: {segmentation}\")\n",
    "        \n",
    "        with open(output_file, 'w', encoding='utf-8') as f:\n",
    "            json.dump(data, f, ensure_ascii=False, indent=4)"
   ]
  },
  {
   "cell_type": "code",
   "execution_count": 4,
   "id": "c9c25b45",
   "metadata": {},
   "outputs": [
    {
     "name": "stdout",
     "output_type": "stream",
     "text": [
      "Original: slide giáo trình đầy đủ .\n",
      "Segmented: ['slide giáo_trình đầy_đủ .']\n",
      "Original: nhiệt tình giảng dạy , gần gũi với sinh viên .\n",
      "Segmented: ['nhiệt_tình giảng_dạy , gần_gũi với sinh_viên .']\n",
      "Original: đi học đầy đủ full điểm chuyên cần .\n",
      "Segmented: ['đi học đầy_đủ full điểm chuyên_cần .']\n",
      "segmented_data\\UIT-VSFC-train.json \n",
      "\n",
      "Original: giáo trình chưa cụ thể .\n",
      "Segmented: ['giáo_trình chưa cụ_thể .']\n",
      "Original: giảng buồn ngủ .\n",
      "Segmented: ['giảng buồn_ngủ .']\n",
      "Original: giáo viên vui tính , tận tâm .\n",
      "Segmented: ['giáo_viên vui_tính , tận_tâm .']\n",
      "segmented_data\\UIT-VSFC-dev.json \n",
      "\n",
      "Original: nói tiếng anh lưu loát .\n",
      "Segmented: ['nói tiếng anh lưu_loát .']\n",
      "Original: giáo viên rất vui tính .\n",
      "Segmented: ['giáo_viên rất vui_tính .']\n",
      "Original: cô max có tâm .\n",
      "Segmented: ['cô max có tâm .']\n",
      "segmented_data\\UIT-VSFC-test.json \n",
      "\n"
     ]
    }
   ],
   "source": [
    "files = ['UIT-VSFC-train.json', 'UIT-VSFC-dev.json', 'UIT-VSFC-test.json']\n",
    "\n",
    "if __name__ == \"__main__\":\n",
    "    wrapper = VnCoreNLPWrapper()\n",
    "    for file in files:\n",
    "        input_file = os.path.join('raw_data', file)\n",
    "        output_file = os.path.join('segmented_data', file)\n",
    "        wrapper.segment_json(input_file, output_file)\n",
    "        print(output_file, '\\n')"
   ]
  }
 ],
 "metadata": {
  "kernelspec": {
   "display_name": "Python 3",
   "language": "python",
   "name": "python3"
  },
  "language_info": {
   "codemirror_mode": {
    "name": "ipython",
    "version": 3
   },
   "file_extension": ".py",
   "mimetype": "text/x-python",
   "name": "python",
   "nbconvert_exporter": "python",
   "pygments_lexer": "ipython3",
   "version": "3.8.0"
  }
 },
 "nbformat": 4,
 "nbformat_minor": 5
}
